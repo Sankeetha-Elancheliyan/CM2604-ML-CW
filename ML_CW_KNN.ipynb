{
  "nbformat": 4,
  "nbformat_minor": 0,
  "metadata": {
    "colab": {
      "provenance": [],
      "authorship_tag": "ABX9TyNXfpy4S3FSNKPcH6/TWOIn",
      "include_colab_link": true
    },
    "kernelspec": {
      "name": "python3",
      "display_name": "Python 3"
    },
    "language_info": {
      "name": "python"
    }
  },
  "cells": [
    {
      "cell_type": "markdown",
      "metadata": {
        "id": "view-in-github",
        "colab_type": "text"
      },
      "source": [
        "<a href=\"https://colab.research.google.com/github/Sankeetha-Elancheliyan/CM2604-ML-CW/blob/main/ML_CW_KNN.ipynb\" target=\"_parent\"><img src=\"https://colab.research.google.com/assets/colab-badge.svg\" alt=\"Open In Colab\"/></a>"
      ]
    },
    {
      "cell_type": "markdown",
      "source": [
        "**Dataset Preparation**\n"
      ],
      "metadata": {
        "id": "LQKpxv1mgpcH"
      }
    },
    {
      "cell_type": "code",
      "source": [
        "import numpy as np\n",
        "import matplotlib.pyplot as plt\n",
        "import pandas as pd"
      ],
      "metadata": {
        "id": "RQHbjarAgyZs"
      },
      "execution_count": null,
      "outputs": []
    },
    {
      "cell_type": "code",
      "source": [
        "url='https://archive.ics.uci.edu/ml/machine-learning-databases/spambase/spambase.data'\n",
        "\n",
        "headers = ['word_freq_make','word_freq_address','word_freq_all','word_freq_3d','word_freq_our','word_freq_over','word_freq_remove','word_freq_internet','word_freq_order','word_freq_mail','word_freq_receive','word_freq_will','word_freq_people','word_freq_report','word_freq_addresses','word_freq_free','word_freq_business','word_freq_email','word_freq_you','word_freq_credit','word_freq_your','word_freq_font','word_freq_000','word_freq_money','word_freq_hp','word_freq_hpl','word_freq_george','word_freq_650','word_freq_lab','word_freq_labs','word_freq_telnet','word_freq_857','word_freq_data','word_freq_415','word_freq_85','word_freq_technology','word_freq_1999','word_freq_parts','word_freq_pm','word_freq_direct','word_freq_cs','word_freq_meeting','word_freq_original','word_freq_project','word_freq_re','word_freq_edu','word_freq_table','word_freq_conference','char_freq_%3B','char_freq_%28','char_freq_%5B','char_freq_%21','char_freq_%24','char_freq_%23','capital_run_length_average','capital_run_length_longest','capital_run_length_total','class']\n",
        "\n",
        "dataset=pd.read_csv(url, header=None, names=headers)"
      ],
      "metadata": {
        "id": "Um4NT-nlg7y1"
      },
      "execution_count": null,
      "outputs": []
    },
    {
      "cell_type": "code",
      "source": [
        "dataset.head()"
      ],
      "metadata": {
        "colab": {
          "base_uri": "https://localhost:8080/",
          "height": 299
        },
        "id": "Xf0wZmReg-da",
        "outputId": "df227215-30ae-43ce-a1ca-800f2893de46"
      },
      "execution_count": null,
      "outputs": [
        {
          "output_type": "execute_result",
          "data": {
            "text/plain": [
              "   word_freq_make  word_freq_address  word_freq_all  word_freq_3d  \\\n",
              "0            0.00               0.64           0.64           0.0   \n",
              "1            0.21               0.28           0.50           0.0   \n",
              "2            0.06               0.00           0.71           0.0   \n",
              "3            0.00               0.00           0.00           0.0   \n",
              "4            0.00               0.00           0.00           0.0   \n",
              "\n",
              "   word_freq_our  word_freq_over  word_freq_remove  word_freq_internet  \\\n",
              "0           0.32            0.00              0.00                0.00   \n",
              "1           0.14            0.28              0.21                0.07   \n",
              "2           1.23            0.19              0.19                0.12   \n",
              "3           0.63            0.00              0.31                0.63   \n",
              "4           0.63            0.00              0.31                0.63   \n",
              "\n",
              "   word_freq_order  word_freq_mail  ...  char_freq_%3B  char_freq_%28  \\\n",
              "0             0.00            0.00  ...           0.00          0.000   \n",
              "1             0.00            0.94  ...           0.00          0.132   \n",
              "2             0.64            0.25  ...           0.01          0.143   \n",
              "3             0.31            0.63  ...           0.00          0.137   \n",
              "4             0.31            0.63  ...           0.00          0.135   \n",
              "\n",
              "   char_freq_%5B  char_freq_%21  char_freq_%24  char_freq_%23  \\\n",
              "0            0.0          0.778          0.000          0.000   \n",
              "1            0.0          0.372          0.180          0.048   \n",
              "2            0.0          0.276          0.184          0.010   \n",
              "3            0.0          0.137          0.000          0.000   \n",
              "4            0.0          0.135          0.000          0.000   \n",
              "\n",
              "   capital_run_length_average  capital_run_length_longest  \\\n",
              "0                       3.756                          61   \n",
              "1                       5.114                         101   \n",
              "2                       9.821                         485   \n",
              "3                       3.537                          40   \n",
              "4                       3.537                          40   \n",
              "\n",
              "   capital_run_length_total  class  \n",
              "0                       278      1  \n",
              "1                      1028      1  \n",
              "2                      2259      1  \n",
              "3                       191      1  \n",
              "4                       191      1  \n",
              "\n",
              "[5 rows x 58 columns]"
            ],
            "text/html": [
              "\n",
              "  <div id=\"df-8de6862f-f8ba-4faf-b1d3-23394cea3d8b\">\n",
              "    <div class=\"colab-df-container\">\n",
              "      <div>\n",
              "<style scoped>\n",
              "    .dataframe tbody tr th:only-of-type {\n",
              "        vertical-align: middle;\n",
              "    }\n",
              "\n",
              "    .dataframe tbody tr th {\n",
              "        vertical-align: top;\n",
              "    }\n",
              "\n",
              "    .dataframe thead th {\n",
              "        text-align: right;\n",
              "    }\n",
              "</style>\n",
              "<table border=\"1\" class=\"dataframe\">\n",
              "  <thead>\n",
              "    <tr style=\"text-align: right;\">\n",
              "      <th></th>\n",
              "      <th>word_freq_make</th>\n",
              "      <th>word_freq_address</th>\n",
              "      <th>word_freq_all</th>\n",
              "      <th>word_freq_3d</th>\n",
              "      <th>word_freq_our</th>\n",
              "      <th>word_freq_over</th>\n",
              "      <th>word_freq_remove</th>\n",
              "      <th>word_freq_internet</th>\n",
              "      <th>word_freq_order</th>\n",
              "      <th>word_freq_mail</th>\n",
              "      <th>...</th>\n",
              "      <th>char_freq_%3B</th>\n",
              "      <th>char_freq_%28</th>\n",
              "      <th>char_freq_%5B</th>\n",
              "      <th>char_freq_%21</th>\n",
              "      <th>char_freq_%24</th>\n",
              "      <th>char_freq_%23</th>\n",
              "      <th>capital_run_length_average</th>\n",
              "      <th>capital_run_length_longest</th>\n",
              "      <th>capital_run_length_total</th>\n",
              "      <th>class</th>\n",
              "    </tr>\n",
              "  </thead>\n",
              "  <tbody>\n",
              "    <tr>\n",
              "      <th>0</th>\n",
              "      <td>0.00</td>\n",
              "      <td>0.64</td>\n",
              "      <td>0.64</td>\n",
              "      <td>0.0</td>\n",
              "      <td>0.32</td>\n",
              "      <td>0.00</td>\n",
              "      <td>0.00</td>\n",
              "      <td>0.00</td>\n",
              "      <td>0.00</td>\n",
              "      <td>0.00</td>\n",
              "      <td>...</td>\n",
              "      <td>0.00</td>\n",
              "      <td>0.000</td>\n",
              "      <td>0.0</td>\n",
              "      <td>0.778</td>\n",
              "      <td>0.000</td>\n",
              "      <td>0.000</td>\n",
              "      <td>3.756</td>\n",
              "      <td>61</td>\n",
              "      <td>278</td>\n",
              "      <td>1</td>\n",
              "    </tr>\n",
              "    <tr>\n",
              "      <th>1</th>\n",
              "      <td>0.21</td>\n",
              "      <td>0.28</td>\n",
              "      <td>0.50</td>\n",
              "      <td>0.0</td>\n",
              "      <td>0.14</td>\n",
              "      <td>0.28</td>\n",
              "      <td>0.21</td>\n",
              "      <td>0.07</td>\n",
              "      <td>0.00</td>\n",
              "      <td>0.94</td>\n",
              "      <td>...</td>\n",
              "      <td>0.00</td>\n",
              "      <td>0.132</td>\n",
              "      <td>0.0</td>\n",
              "      <td>0.372</td>\n",
              "      <td>0.180</td>\n",
              "      <td>0.048</td>\n",
              "      <td>5.114</td>\n",
              "      <td>101</td>\n",
              "      <td>1028</td>\n",
              "      <td>1</td>\n",
              "    </tr>\n",
              "    <tr>\n",
              "      <th>2</th>\n",
              "      <td>0.06</td>\n",
              "      <td>0.00</td>\n",
              "      <td>0.71</td>\n",
              "      <td>0.0</td>\n",
              "      <td>1.23</td>\n",
              "      <td>0.19</td>\n",
              "      <td>0.19</td>\n",
              "      <td>0.12</td>\n",
              "      <td>0.64</td>\n",
              "      <td>0.25</td>\n",
              "      <td>...</td>\n",
              "      <td>0.01</td>\n",
              "      <td>0.143</td>\n",
              "      <td>0.0</td>\n",
              "      <td>0.276</td>\n",
              "      <td>0.184</td>\n",
              "      <td>0.010</td>\n",
              "      <td>9.821</td>\n",
              "      <td>485</td>\n",
              "      <td>2259</td>\n",
              "      <td>1</td>\n",
              "    </tr>\n",
              "    <tr>\n",
              "      <th>3</th>\n",
              "      <td>0.00</td>\n",
              "      <td>0.00</td>\n",
              "      <td>0.00</td>\n",
              "      <td>0.0</td>\n",
              "      <td>0.63</td>\n",
              "      <td>0.00</td>\n",
              "      <td>0.31</td>\n",
              "      <td>0.63</td>\n",
              "      <td>0.31</td>\n",
              "      <td>0.63</td>\n",
              "      <td>...</td>\n",
              "      <td>0.00</td>\n",
              "      <td>0.137</td>\n",
              "      <td>0.0</td>\n",
              "      <td>0.137</td>\n",
              "      <td>0.000</td>\n",
              "      <td>0.000</td>\n",
              "      <td>3.537</td>\n",
              "      <td>40</td>\n",
              "      <td>191</td>\n",
              "      <td>1</td>\n",
              "    </tr>\n",
              "    <tr>\n",
              "      <th>4</th>\n",
              "      <td>0.00</td>\n",
              "      <td>0.00</td>\n",
              "      <td>0.00</td>\n",
              "      <td>0.0</td>\n",
              "      <td>0.63</td>\n",
              "      <td>0.00</td>\n",
              "      <td>0.31</td>\n",
              "      <td>0.63</td>\n",
              "      <td>0.31</td>\n",
              "      <td>0.63</td>\n",
              "      <td>...</td>\n",
              "      <td>0.00</td>\n",
              "      <td>0.135</td>\n",
              "      <td>0.0</td>\n",
              "      <td>0.135</td>\n",
              "      <td>0.000</td>\n",
              "      <td>0.000</td>\n",
              "      <td>3.537</td>\n",
              "      <td>40</td>\n",
              "      <td>191</td>\n",
              "      <td>1</td>\n",
              "    </tr>\n",
              "  </tbody>\n",
              "</table>\n",
              "<p>5 rows × 58 columns</p>\n",
              "</div>\n",
              "      <button class=\"colab-df-convert\" onclick=\"convertToInteractive('df-8de6862f-f8ba-4faf-b1d3-23394cea3d8b')\"\n",
              "              title=\"Convert this dataframe to an interactive table.\"\n",
              "              style=\"display:none;\">\n",
              "        \n",
              "  <svg xmlns=\"http://www.w3.org/2000/svg\" height=\"24px\"viewBox=\"0 0 24 24\"\n",
              "       width=\"24px\">\n",
              "    <path d=\"M0 0h24v24H0V0z\" fill=\"none\"/>\n",
              "    <path d=\"M18.56 5.44l.94 2.06.94-2.06 2.06-.94-2.06-.94-.94-2.06-.94 2.06-2.06.94zm-11 1L8.5 8.5l.94-2.06 2.06-.94-2.06-.94L8.5 2.5l-.94 2.06-2.06.94zm10 10l.94 2.06.94-2.06 2.06-.94-2.06-.94-.94-2.06-.94 2.06-2.06.94z\"/><path d=\"M17.41 7.96l-1.37-1.37c-.4-.4-.92-.59-1.43-.59-.52 0-1.04.2-1.43.59L10.3 9.45l-7.72 7.72c-.78.78-.78 2.05 0 2.83L4 21.41c.39.39.9.59 1.41.59.51 0 1.02-.2 1.41-.59l7.78-7.78 2.81-2.81c.8-.78.8-2.07 0-2.86zM5.41 20L4 18.59l7.72-7.72 1.47 1.35L5.41 20z\"/>\n",
              "  </svg>\n",
              "      </button>\n",
              "      \n",
              "  <style>\n",
              "    .colab-df-container {\n",
              "      display:flex;\n",
              "      flex-wrap:wrap;\n",
              "      gap: 12px;\n",
              "    }\n",
              "\n",
              "    .colab-df-convert {\n",
              "      background-color: #E8F0FE;\n",
              "      border: none;\n",
              "      border-radius: 50%;\n",
              "      cursor: pointer;\n",
              "      display: none;\n",
              "      fill: #1967D2;\n",
              "      height: 32px;\n",
              "      padding: 0 0 0 0;\n",
              "      width: 32px;\n",
              "    }\n",
              "\n",
              "    .colab-df-convert:hover {\n",
              "      background-color: #E2EBFA;\n",
              "      box-shadow: 0px 1px 2px rgba(60, 64, 67, 0.3), 0px 1px 3px 1px rgba(60, 64, 67, 0.15);\n",
              "      fill: #174EA6;\n",
              "    }\n",
              "\n",
              "    [theme=dark] .colab-df-convert {\n",
              "      background-color: #3B4455;\n",
              "      fill: #D2E3FC;\n",
              "    }\n",
              "\n",
              "    [theme=dark] .colab-df-convert:hover {\n",
              "      background-color: #434B5C;\n",
              "      box-shadow: 0px 1px 3px 1px rgba(0, 0, 0, 0.15);\n",
              "      filter: drop-shadow(0px 1px 2px rgba(0, 0, 0, 0.3));\n",
              "      fill: #FFFFFF;\n",
              "    }\n",
              "  </style>\n",
              "\n",
              "      <script>\n",
              "        const buttonEl =\n",
              "          document.querySelector('#df-8de6862f-f8ba-4faf-b1d3-23394cea3d8b button.colab-df-convert');\n",
              "        buttonEl.style.display =\n",
              "          google.colab.kernel.accessAllowed ? 'block' : 'none';\n",
              "\n",
              "        async function convertToInteractive(key) {\n",
              "          const element = document.querySelector('#df-8de6862f-f8ba-4faf-b1d3-23394cea3d8b');\n",
              "          const dataTable =\n",
              "            await google.colab.kernel.invokeFunction('convertToInteractive',\n",
              "                                                     [key], {});\n",
              "          if (!dataTable) return;\n",
              "\n",
              "          const docLinkHtml = 'Like what you see? Visit the ' +\n",
              "            '<a target=\"_blank\" href=https://colab.research.google.com/notebooks/data_table.ipynb>data table notebook</a>'\n",
              "            + ' to learn more about interactive tables.';\n",
              "          element.innerHTML = '';\n",
              "          dataTable['output_type'] = 'display_data';\n",
              "          await google.colab.output.renderOutput(dataTable, element);\n",
              "          const docLink = document.createElement('div');\n",
              "          docLink.innerHTML = docLinkHtml;\n",
              "          element.appendChild(docLink);\n",
              "        }\n",
              "      </script>\n",
              "    </div>\n",
              "  </div>\n",
              "  "
            ]
          },
          "metadata": {},
          "execution_count": 3
        }
      ]
    },
    {
      "cell_type": "code",
      "source": [
        "# Check for null values\n",
        "print(dataset.isnull().sum())"
      ],
      "metadata": {
        "colab": {
          "base_uri": "https://localhost:8080/"
        },
        "id": "zzfmpeKBhA-q",
        "outputId": "eaf0895b-beff-42af-fa7d-e67cd4c298c9"
      },
      "execution_count": null,
      "outputs": [
        {
          "output_type": "stream",
          "name": "stdout",
          "text": [
            "word_freq_make                0\n",
            "word_freq_address             0\n",
            "word_freq_all                 0\n",
            "word_freq_3d                  0\n",
            "word_freq_our                 0\n",
            "word_freq_over                0\n",
            "word_freq_remove              0\n",
            "word_freq_internet            0\n",
            "word_freq_order               0\n",
            "word_freq_mail                0\n",
            "word_freq_receive             0\n",
            "word_freq_will                0\n",
            "word_freq_people              0\n",
            "word_freq_report              0\n",
            "word_freq_addresses           0\n",
            "word_freq_free                0\n",
            "word_freq_business            0\n",
            "word_freq_email               0\n",
            "word_freq_you                 0\n",
            "word_freq_credit              0\n",
            "word_freq_your                0\n",
            "word_freq_font                0\n",
            "word_freq_000                 0\n",
            "word_freq_money               0\n",
            "word_freq_hp                  0\n",
            "word_freq_hpl                 0\n",
            "word_freq_george              0\n",
            "word_freq_650                 0\n",
            "word_freq_lab                 0\n",
            "word_freq_labs                0\n",
            "word_freq_telnet              0\n",
            "word_freq_857                 0\n",
            "word_freq_data                0\n",
            "word_freq_415                 0\n",
            "word_freq_85                  0\n",
            "word_freq_technology          0\n",
            "word_freq_1999                0\n",
            "word_freq_parts               0\n",
            "word_freq_pm                  0\n",
            "word_freq_direct              0\n",
            "word_freq_cs                  0\n",
            "word_freq_meeting             0\n",
            "word_freq_original            0\n",
            "word_freq_project             0\n",
            "word_freq_re                  0\n",
            "word_freq_edu                 0\n",
            "word_freq_table               0\n",
            "word_freq_conference          0\n",
            "char_freq_%3B                 0\n",
            "char_freq_%28                 0\n",
            "char_freq_%5B                 0\n",
            "char_freq_%21                 0\n",
            "char_freq_%24                 0\n",
            "char_freq_%23                 0\n",
            "capital_run_length_average    0\n",
            "capital_run_length_longest    0\n",
            "capital_run_length_total      0\n",
            "class                         0\n",
            "dtype: int64\n"
          ]
        }
      ]
    },
    {
      "cell_type": "code",
      "source": [
        "# Remove null values\n",
        "dataset.dropna(inplace=True)"
      ],
      "metadata": {
        "id": "VqTVW5PQhA7O"
      },
      "execution_count": null,
      "outputs": []
    },
    {
      "cell_type": "code",
      "source": [
        "# Check for duplicates\n",
        "print(dataset.duplicated().sum())"
      ],
      "metadata": {
        "colab": {
          "base_uri": "https://localhost:8080/"
        },
        "id": "8GW5cwClhGlu",
        "outputId": "d20a3222-833a-4893-a4b4-4b3f8deeedb5"
      },
      "execution_count": null,
      "outputs": [
        {
          "output_type": "stream",
          "name": "stdout",
          "text": [
            "391\n"
          ]
        }
      ]
    },
    {
      "cell_type": "code",
      "source": [
        "# Remove duplicates\n",
        "dataset.drop_duplicates(inplace=True)"
      ],
      "metadata": {
        "id": "K9nQsgQjhJbf"
      },
      "execution_count": null,
      "outputs": []
    },
    {
      "cell_type": "code",
      "source": [
        "dataset.info()"
      ],
      "metadata": {
        "colab": {
          "base_uri": "https://localhost:8080/"
        },
        "id": "w6xmzj9VhMJ-",
        "outputId": "ea593a9a-a7aa-41d1-8efe-06bd09e27a1e"
      },
      "execution_count": null,
      "outputs": [
        {
          "output_type": "stream",
          "name": "stdout",
          "text": [
            "<class 'pandas.core.frame.DataFrame'>\n",
            "Int64Index: 4210 entries, 0 to 4600\n",
            "Data columns (total 58 columns):\n",
            " #   Column                      Non-Null Count  Dtype  \n",
            "---  ------                      --------------  -----  \n",
            " 0   word_freq_make              4210 non-null   float64\n",
            " 1   word_freq_address           4210 non-null   float64\n",
            " 2   word_freq_all               4210 non-null   float64\n",
            " 3   word_freq_3d                4210 non-null   float64\n",
            " 4   word_freq_our               4210 non-null   float64\n",
            " 5   word_freq_over              4210 non-null   float64\n",
            " 6   word_freq_remove            4210 non-null   float64\n",
            " 7   word_freq_internet          4210 non-null   float64\n",
            " 8   word_freq_order             4210 non-null   float64\n",
            " 9   word_freq_mail              4210 non-null   float64\n",
            " 10  word_freq_receive           4210 non-null   float64\n",
            " 11  word_freq_will              4210 non-null   float64\n",
            " 12  word_freq_people            4210 non-null   float64\n",
            " 13  word_freq_report            4210 non-null   float64\n",
            " 14  word_freq_addresses         4210 non-null   float64\n",
            " 15  word_freq_free              4210 non-null   float64\n",
            " 16  word_freq_business          4210 non-null   float64\n",
            " 17  word_freq_email             4210 non-null   float64\n",
            " 18  word_freq_you               4210 non-null   float64\n",
            " 19  word_freq_credit            4210 non-null   float64\n",
            " 20  word_freq_your              4210 non-null   float64\n",
            " 21  word_freq_font              4210 non-null   float64\n",
            " 22  word_freq_000               4210 non-null   float64\n",
            " 23  word_freq_money             4210 non-null   float64\n",
            " 24  word_freq_hp                4210 non-null   float64\n",
            " 25  word_freq_hpl               4210 non-null   float64\n",
            " 26  word_freq_george            4210 non-null   float64\n",
            " 27  word_freq_650               4210 non-null   float64\n",
            " 28  word_freq_lab               4210 non-null   float64\n",
            " 29  word_freq_labs              4210 non-null   float64\n",
            " 30  word_freq_telnet            4210 non-null   float64\n",
            " 31  word_freq_857               4210 non-null   float64\n",
            " 32  word_freq_data              4210 non-null   float64\n",
            " 33  word_freq_415               4210 non-null   float64\n",
            " 34  word_freq_85                4210 non-null   float64\n",
            " 35  word_freq_technology        4210 non-null   float64\n",
            " 36  word_freq_1999              4210 non-null   float64\n",
            " 37  word_freq_parts             4210 non-null   float64\n",
            " 38  word_freq_pm                4210 non-null   float64\n",
            " 39  word_freq_direct            4210 non-null   float64\n",
            " 40  word_freq_cs                4210 non-null   float64\n",
            " 41  word_freq_meeting           4210 non-null   float64\n",
            " 42  word_freq_original          4210 non-null   float64\n",
            " 43  word_freq_project           4210 non-null   float64\n",
            " 44  word_freq_re                4210 non-null   float64\n",
            " 45  word_freq_edu               4210 non-null   float64\n",
            " 46  word_freq_table             4210 non-null   float64\n",
            " 47  word_freq_conference        4210 non-null   float64\n",
            " 48  char_freq_%3B               4210 non-null   float64\n",
            " 49  char_freq_%28               4210 non-null   float64\n",
            " 50  char_freq_%5B               4210 non-null   float64\n",
            " 51  char_freq_%21               4210 non-null   float64\n",
            " 52  char_freq_%24               4210 non-null   float64\n",
            " 53  char_freq_%23               4210 non-null   float64\n",
            " 54  capital_run_length_average  4210 non-null   float64\n",
            " 55  capital_run_length_longest  4210 non-null   int64  \n",
            " 56  capital_run_length_total    4210 non-null   int64  \n",
            " 57  class                       4210 non-null   int64  \n",
            "dtypes: float64(55), int64(3)\n",
            "memory usage: 1.9 MB\n"
          ]
        }
      ]
    },
    {
      "cell_type": "code",
      "source": [
        "# Split features and target\n",
        "X = dataset.iloc[:, :-1]\n",
        "y = dataset.iloc[:, -1]"
      ],
      "metadata": {
        "id": "3BX5Xz21hO4t"
      },
      "execution_count": null,
      "outputs": []
    },
    {
      "cell_type": "markdown",
      "source": [
        "**Perform PCA**"
      ],
      "metadata": {
        "id": "NgDFTZWRhoPR"
      }
    },
    {
      "cell_type": "code",
      "source": [
        "from sklearn.decomposition import PCA\n",
        "pca = PCA(n_components=5) \n",
        "principle_comoponents = pca.fit_transform(X)\n"
      ],
      "metadata": {
        "id": "A0TKdRwVhU1t"
      },
      "execution_count": null,
      "outputs": []
    },
    {
      "cell_type": "code",
      "source": [
        "pca.explained_variance_ratio_"
      ],
      "metadata": {
        "colab": {
          "base_uri": "https://localhost:8080/"
        },
        "id": "Pd9RHM-nhYTT",
        "outputId": "ad6e33aa-70b1-4c5c-ee56-c15311f9ebf5"
      },
      "execution_count": null,
      "outputs": [
        {
          "output_type": "execute_result",
          "data": {
            "text/plain": [
              "array([9.25462065e-01, 7.25629100e-02, 1.91461432e-03, 1.02875405e-05,\n",
              "       7.15869294e-06])"
            ]
          },
          "metadata": {},
          "execution_count": 11
        }
      ]
    },
    {
      "cell_type": "markdown",
      "source": [
        "**Split Dataset**"
      ],
      "metadata": {
        "id": "i1zt9JHDhuR1"
      }
    },
    {
      "cell_type": "code",
      "source": [
        "from sklearn.model_selection import train_test_split\n",
        "\n",
        "# Split into training and testing datasets\n",
        "X_train, X_test, y_train, y_test = train_test_split(X, y, test_size=0.2, random_state=42)"
      ],
      "metadata": {
        "id": "fhDdxa-whg_k"
      },
      "execution_count": null,
      "outputs": []
    },
    {
      "cell_type": "markdown",
      "source": [
        "**Normalize Features**"
      ],
      "metadata": {
        "id": "iEZsT9QAkQ9v"
      }
    },
    {
      "cell_type": "code",
      "source": [
        "from sklearn.preprocessing import StandardScaler\n",
        "\n",
        "# Normalize features\n",
        "scaler = StandardScaler()\n",
        "X_train = scaler.fit_transform(X_train)\n",
        "X_test = scaler.transform(X_test)\n"
      ],
      "metadata": {
        "id": "Bdoi4RiChkI4"
      },
      "execution_count": null,
      "outputs": []
    },
    {
      "cell_type": "markdown",
      "source": [
        "**Find Optimal Value for k**"
      ],
      "metadata": {
        "id": "wxuMo4tXkYfV"
      }
    },
    {
      "cell_type": "code",
      "source": [
        "from sklearn.neighbors import KNeighborsClassifier\n",
        "#finding optimal value of k\n",
        "k=0\n",
        "M=-1\n",
        "for i in range (1,10):\n",
        "    ModelK=KNeighborsClassifier(n_neighbors=i)\n",
        "    ModelK.fit(X_train,y_train)\n",
        "    S=ModelK.score(X_test,y_test)\n",
        "    if S>M:\n",
        "        M=S\n",
        "        k=i\n",
        "print(k)\n",
        "\n"
      ],
      "metadata": {
        "colab": {
          "base_uri": "https://localhost:8080/"
        },
        "id": "a3tOJuqIjy2O",
        "outputId": "2817406c-7c83-4e1e-e1ba-d385df9f7968"
      },
      "execution_count": null,
      "outputs": [
        {
          "output_type": "stream",
          "name": "stdout",
          "text": [
            "9\n"
          ]
        }
      ]
    },
    {
      "cell_type": "markdown",
      "source": [
        "**KNN Model**"
      ],
      "metadata": {
        "id": "VpDpTmurkc1u"
      }
    },
    {
      "cell_type": "code",
      "source": [
        "# KNN Model\n",
        "knn = KNeighborsClassifier(n_neighbors=k)\n",
        "knn.fit(X_train, y_train)"
      ],
      "metadata": {
        "colab": {
          "base_uri": "https://localhost:8080/",
          "height": 74
        },
        "id": "WkPilrbqkEpD",
        "outputId": "aac72960-ba04-414c-e803-dda6c21ed2f1"
      },
      "execution_count": null,
      "outputs": [
        {
          "output_type": "execute_result",
          "data": {
            "text/plain": [
              "KNeighborsClassifier(n_neighbors=9)"
            ],
            "text/html": [
              "<style>#sk-container-id-1 {color: black;background-color: white;}#sk-container-id-1 pre{padding: 0;}#sk-container-id-1 div.sk-toggleable {background-color: white;}#sk-container-id-1 label.sk-toggleable__label {cursor: pointer;display: block;width: 100%;margin-bottom: 0;padding: 0.3em;box-sizing: border-box;text-align: center;}#sk-container-id-1 label.sk-toggleable__label-arrow:before {content: \"▸\";float: left;margin-right: 0.25em;color: #696969;}#sk-container-id-1 label.sk-toggleable__label-arrow:hover:before {color: black;}#sk-container-id-1 div.sk-estimator:hover label.sk-toggleable__label-arrow:before {color: black;}#sk-container-id-1 div.sk-toggleable__content {max-height: 0;max-width: 0;overflow: hidden;text-align: left;background-color: #f0f8ff;}#sk-container-id-1 div.sk-toggleable__content pre {margin: 0.2em;color: black;border-radius: 0.25em;background-color: #f0f8ff;}#sk-container-id-1 input.sk-toggleable__control:checked~div.sk-toggleable__content {max-height: 200px;max-width: 100%;overflow: auto;}#sk-container-id-1 input.sk-toggleable__control:checked~label.sk-toggleable__label-arrow:before {content: \"▾\";}#sk-container-id-1 div.sk-estimator input.sk-toggleable__control:checked~label.sk-toggleable__label {background-color: #d4ebff;}#sk-container-id-1 div.sk-label input.sk-toggleable__control:checked~label.sk-toggleable__label {background-color: #d4ebff;}#sk-container-id-1 input.sk-hidden--visually {border: 0;clip: rect(1px 1px 1px 1px);clip: rect(1px, 1px, 1px, 1px);height: 1px;margin: -1px;overflow: hidden;padding: 0;position: absolute;width: 1px;}#sk-container-id-1 div.sk-estimator {font-family: monospace;background-color: #f0f8ff;border: 1px dotted black;border-radius: 0.25em;box-sizing: border-box;margin-bottom: 0.5em;}#sk-container-id-1 div.sk-estimator:hover {background-color: #d4ebff;}#sk-container-id-1 div.sk-parallel-item::after {content: \"\";width: 100%;border-bottom: 1px solid gray;flex-grow: 1;}#sk-container-id-1 div.sk-label:hover label.sk-toggleable__label {background-color: #d4ebff;}#sk-container-id-1 div.sk-serial::before {content: \"\";position: absolute;border-left: 1px solid gray;box-sizing: border-box;top: 0;bottom: 0;left: 50%;z-index: 0;}#sk-container-id-1 div.sk-serial {display: flex;flex-direction: column;align-items: center;background-color: white;padding-right: 0.2em;padding-left: 0.2em;position: relative;}#sk-container-id-1 div.sk-item {position: relative;z-index: 1;}#sk-container-id-1 div.sk-parallel {display: flex;align-items: stretch;justify-content: center;background-color: white;position: relative;}#sk-container-id-1 div.sk-item::before, #sk-container-id-1 div.sk-parallel-item::before {content: \"\";position: absolute;border-left: 1px solid gray;box-sizing: border-box;top: 0;bottom: 0;left: 50%;z-index: -1;}#sk-container-id-1 div.sk-parallel-item {display: flex;flex-direction: column;z-index: 1;position: relative;background-color: white;}#sk-container-id-1 div.sk-parallel-item:first-child::after {align-self: flex-end;width: 50%;}#sk-container-id-1 div.sk-parallel-item:last-child::after {align-self: flex-start;width: 50%;}#sk-container-id-1 div.sk-parallel-item:only-child::after {width: 0;}#sk-container-id-1 div.sk-dashed-wrapped {border: 1px dashed gray;margin: 0 0.4em 0.5em 0.4em;box-sizing: border-box;padding-bottom: 0.4em;background-color: white;}#sk-container-id-1 div.sk-label label {font-family: monospace;font-weight: bold;display: inline-block;line-height: 1.2em;}#sk-container-id-1 div.sk-label-container {text-align: center;}#sk-container-id-1 div.sk-container {/* jupyter's `normalize.less` sets `[hidden] { display: none; }` but bootstrap.min.css set `[hidden] { display: none !important; }` so we also need the `!important` here to be able to override the default hidden behavior on the sphinx rendered scikit-learn.org. See: https://github.com/scikit-learn/scikit-learn/issues/21755 */display: inline-block !important;position: relative;}#sk-container-id-1 div.sk-text-repr-fallback {display: none;}</style><div id=\"sk-container-id-1\" class=\"sk-top-container\"><div class=\"sk-text-repr-fallback\"><pre>KNeighborsClassifier(n_neighbors=9)</pre><b>In a Jupyter environment, please rerun this cell to show the HTML representation or trust the notebook. <br />On GitHub, the HTML representation is unable to render, please try loading this page with nbviewer.org.</b></div><div class=\"sk-container\" hidden><div class=\"sk-item\"><div class=\"sk-estimator sk-toggleable\"><input class=\"sk-toggleable__control sk-hidden--visually\" id=\"sk-estimator-id-1\" type=\"checkbox\" checked><label for=\"sk-estimator-id-1\" class=\"sk-toggleable__label sk-toggleable__label-arrow\">KNeighborsClassifier</label><div class=\"sk-toggleable__content\"><pre>KNeighborsClassifier(n_neighbors=9)</pre></div></div></div></div></div>"
            ]
          },
          "metadata": {},
          "execution_count": 15
        }
      ]
    },
    {
      "cell_type": "markdown",
      "source": [
        "**Prediction**"
      ],
      "metadata": {
        "id": "mWI8pi0GkkO5"
      }
    },
    {
      "cell_type": "code",
      "source": [
        "knn_pred = knn.predict(X_test)"
      ],
      "metadata": {
        "id": "QTXb1HfikDn7"
      },
      "execution_count": null,
      "outputs": []
    },
    {
      "cell_type": "markdown",
      "source": [
        "**Evaluation**"
      ],
      "metadata": {
        "id": "u5d98LAxknDX"
      }
    },
    {
      "cell_type": "code",
      "source": [
        "from sklearn.metrics import accuracy_score, precision_score, recall_score, confusion_matrix, f1_score\n",
        "\n",
        "# Evaluation Metrics for KNN\n",
        "print('KNN Results:')\n",
        "print('Accuracy:', accuracy_score(y_test, knn_pred))\n",
        "print('Precision:', precision_score(y_test, knn_pred))\n",
        "print('Recall:', recall_score(y_test, knn_pred))\n",
        "print('F1 Score:', f1_score(y_test, knn_pred))\n",
        "print('Confusion Matrix:\\n', confusion_matrix(y_test, knn_pred))"
      ],
      "metadata": {
        "colab": {
          "base_uri": "https://localhost:8080/"
        },
        "id": "Z5WTdakEkK_j",
        "outputId": "a0082839-51c1-4ed0-ab4f-5c3343d4037d"
      },
      "execution_count": null,
      "outputs": [
        {
          "output_type": "stream",
          "name": "stdout",
          "text": [
            "KNN Results:\n",
            "Accuracy: 0.8931116389548693\n",
            "Precision: 0.9039039039039038\n",
            "Recall: 0.8384401114206128\n",
            "F1 Score: 0.869942196531792\n",
            "Confusion Matrix:\n",
            " [[451  32]\n",
            " [ 58 301]]\n"
          ]
        }
      ]
    },
    {
      "cell_type": "markdown",
      "source": [
        "**Transform the Normalized Features to PCA**"
      ],
      "metadata": {
        "id": "ioCamAthkrjp"
      }
    },
    {
      "cell_type": "code",
      "source": [
        "X_train_pca = pca.transform(X_train)\n",
        "X_test_pca = pca.transform(X_test)\n",
        "# X.pca.shape"
      ],
      "metadata": {
        "colab": {
          "base_uri": "https://localhost:8080/"
        },
        "id": "XOzhxwHak8vZ",
        "outputId": "72556610-8e52-48cf-c29c-4e1819033d90"
      },
      "execution_count": null,
      "outputs": [
        {
          "output_type": "stream",
          "name": "stderr",
          "text": [
            "/usr/local/lib/python3.9/dist-packages/sklearn/base.py:439: UserWarning: X does not have valid feature names, but PCA was fitted with feature names\n",
            "  warnings.warn(\n",
            "/usr/local/lib/python3.9/dist-packages/sklearn/base.py:439: UserWarning: X does not have valid feature names, but PCA was fitted with feature names\n",
            "  warnings.warn(\n"
          ]
        }
      ]
    },
    {
      "cell_type": "markdown",
      "source": [
        "**Finding Optimal Value for k**"
      ],
      "metadata": {
        "id": "OBMTUUoblDSq"
      }
    },
    {
      "cell_type": "code",
      "source": [
        "from sklearn.neighbors import KNeighborsClassifier\n",
        "#finding optimal value of k\n",
        "k=0\n",
        "M=-1\n",
        "for i in range (1,10):\n",
        "    ModelK=KNeighborsClassifier(n_neighbors=i)\n",
        "    ModelK.fit(X_train_pca,y_train)\n",
        "    S=ModelK.score(X_test_pca,y_test)\n",
        "    if S>M:\n",
        "        M=S\n",
        "        k=i\n",
        "print(k)\n",
        "\n"
      ],
      "metadata": {
        "colab": {
          "base_uri": "https://localhost:8080/"
        },
        "id": "b6PShXMYk_jF",
        "outputId": "8f01582e-a2bf-4bd8-e6c8-26cf45717882"
      },
      "execution_count": null,
      "outputs": [
        {
          "output_type": "stream",
          "name": "stdout",
          "text": [
            "3\n"
          ]
        }
      ]
    },
    {
      "cell_type": "markdown",
      "source": [
        "**KNN Model**"
      ],
      "metadata": {
        "id": "bU6ilt6UlQ-u"
      }
    },
    {
      "cell_type": "code",
      "source": [
        "# KNN Model\n",
        "knn = KNeighborsClassifier(n_neighbors=k)\n",
        "knn.fit(X_train_pca, y_train)"
      ],
      "metadata": {
        "colab": {
          "base_uri": "https://localhost:8080/",
          "height": 74
        },
        "id": "HS4Tj51QlVSg",
        "outputId": "051346a9-9f06-4ba6-92bd-ac1627dcd87d"
      },
      "execution_count": null,
      "outputs": [
        {
          "output_type": "execute_result",
          "data": {
            "text/plain": [
              "KNeighborsClassifier(n_neighbors=3)"
            ],
            "text/html": [
              "<style>#sk-container-id-2 {color: black;background-color: white;}#sk-container-id-2 pre{padding: 0;}#sk-container-id-2 div.sk-toggleable {background-color: white;}#sk-container-id-2 label.sk-toggleable__label {cursor: pointer;display: block;width: 100%;margin-bottom: 0;padding: 0.3em;box-sizing: border-box;text-align: center;}#sk-container-id-2 label.sk-toggleable__label-arrow:before {content: \"▸\";float: left;margin-right: 0.25em;color: #696969;}#sk-container-id-2 label.sk-toggleable__label-arrow:hover:before {color: black;}#sk-container-id-2 div.sk-estimator:hover label.sk-toggleable__label-arrow:before {color: black;}#sk-container-id-2 div.sk-toggleable__content {max-height: 0;max-width: 0;overflow: hidden;text-align: left;background-color: #f0f8ff;}#sk-container-id-2 div.sk-toggleable__content pre {margin: 0.2em;color: black;border-radius: 0.25em;background-color: #f0f8ff;}#sk-container-id-2 input.sk-toggleable__control:checked~div.sk-toggleable__content {max-height: 200px;max-width: 100%;overflow: auto;}#sk-container-id-2 input.sk-toggleable__control:checked~label.sk-toggleable__label-arrow:before {content: \"▾\";}#sk-container-id-2 div.sk-estimator input.sk-toggleable__control:checked~label.sk-toggleable__label {background-color: #d4ebff;}#sk-container-id-2 div.sk-label input.sk-toggleable__control:checked~label.sk-toggleable__label {background-color: #d4ebff;}#sk-container-id-2 input.sk-hidden--visually {border: 0;clip: rect(1px 1px 1px 1px);clip: rect(1px, 1px, 1px, 1px);height: 1px;margin: -1px;overflow: hidden;padding: 0;position: absolute;width: 1px;}#sk-container-id-2 div.sk-estimator {font-family: monospace;background-color: #f0f8ff;border: 1px dotted black;border-radius: 0.25em;box-sizing: border-box;margin-bottom: 0.5em;}#sk-container-id-2 div.sk-estimator:hover {background-color: #d4ebff;}#sk-container-id-2 div.sk-parallel-item::after {content: \"\";width: 100%;border-bottom: 1px solid gray;flex-grow: 1;}#sk-container-id-2 div.sk-label:hover label.sk-toggleable__label {background-color: #d4ebff;}#sk-container-id-2 div.sk-serial::before {content: \"\";position: absolute;border-left: 1px solid gray;box-sizing: border-box;top: 0;bottom: 0;left: 50%;z-index: 0;}#sk-container-id-2 div.sk-serial {display: flex;flex-direction: column;align-items: center;background-color: white;padding-right: 0.2em;padding-left: 0.2em;position: relative;}#sk-container-id-2 div.sk-item {position: relative;z-index: 1;}#sk-container-id-2 div.sk-parallel {display: flex;align-items: stretch;justify-content: center;background-color: white;position: relative;}#sk-container-id-2 div.sk-item::before, #sk-container-id-2 div.sk-parallel-item::before {content: \"\";position: absolute;border-left: 1px solid gray;box-sizing: border-box;top: 0;bottom: 0;left: 50%;z-index: -1;}#sk-container-id-2 div.sk-parallel-item {display: flex;flex-direction: column;z-index: 1;position: relative;background-color: white;}#sk-container-id-2 div.sk-parallel-item:first-child::after {align-self: flex-end;width: 50%;}#sk-container-id-2 div.sk-parallel-item:last-child::after {align-self: flex-start;width: 50%;}#sk-container-id-2 div.sk-parallel-item:only-child::after {width: 0;}#sk-container-id-2 div.sk-dashed-wrapped {border: 1px dashed gray;margin: 0 0.4em 0.5em 0.4em;box-sizing: border-box;padding-bottom: 0.4em;background-color: white;}#sk-container-id-2 div.sk-label label {font-family: monospace;font-weight: bold;display: inline-block;line-height: 1.2em;}#sk-container-id-2 div.sk-label-container {text-align: center;}#sk-container-id-2 div.sk-container {/* jupyter's `normalize.less` sets `[hidden] { display: none; }` but bootstrap.min.css set `[hidden] { display: none !important; }` so we also need the `!important` here to be able to override the default hidden behavior on the sphinx rendered scikit-learn.org. See: https://github.com/scikit-learn/scikit-learn/issues/21755 */display: inline-block !important;position: relative;}#sk-container-id-2 div.sk-text-repr-fallback {display: none;}</style><div id=\"sk-container-id-2\" class=\"sk-top-container\"><div class=\"sk-text-repr-fallback\"><pre>KNeighborsClassifier(n_neighbors=3)</pre><b>In a Jupyter environment, please rerun this cell to show the HTML representation or trust the notebook. <br />On GitHub, the HTML representation is unable to render, please try loading this page with nbviewer.org.</b></div><div class=\"sk-container\" hidden><div class=\"sk-item\"><div class=\"sk-estimator sk-toggleable\"><input class=\"sk-toggleable__control sk-hidden--visually\" id=\"sk-estimator-id-2\" type=\"checkbox\" checked><label for=\"sk-estimator-id-2\" class=\"sk-toggleable__label sk-toggleable__label-arrow\">KNeighborsClassifier</label><div class=\"sk-toggleable__content\"><pre>KNeighborsClassifier(n_neighbors=3)</pre></div></div></div></div></div>"
            ]
          },
          "metadata": {},
          "execution_count": 20
        }
      ]
    },
    {
      "cell_type": "markdown",
      "source": [
        "**Prediction**"
      ],
      "metadata": {
        "id": "PoxlaAAoliV7"
      }
    },
    {
      "cell_type": "code",
      "source": [
        "knn_pred = knn.predict(X_test_pca)"
      ],
      "metadata": {
        "id": "gn48nAtdlbvg"
      },
      "execution_count": null,
      "outputs": []
    },
    {
      "cell_type": "markdown",
      "source": [
        "**Evaluation**"
      ],
      "metadata": {
        "id": "L_bPweOklzAV"
      }
    },
    {
      "cell_type": "code",
      "source": [
        "\n",
        "# Evaluation Metrics for KNN\n",
        "print('KNN Results (with PCA):')\n",
        "print('Accuracy:', accuracy_score(y_test, knn_pred))\n",
        "print('Precision:', precision_score(y_test, knn_pred))\n",
        "print('Recall:', recall_score(y_test, knn_pred))\n",
        "print('F1 Score:', f1_score(y_test, knn_pred))\n",
        "print('Confusion Matrix:\\n', confusion_matrix(y_test, knn_pred))\n"
      ],
      "metadata": {
        "colab": {
          "base_uri": "https://localhost:8080/"
        },
        "id": "G7HrQO_0lzYz",
        "outputId": "e1291ab8-2fcb-434a-8ed1-f5f6ad571648"
      },
      "execution_count": null,
      "outputs": [
        {
          "output_type": "stream",
          "name": "stdout",
          "text": [
            "KNN Results (with PCA):\n",
            "Accuracy: 0.8551068883610451\n",
            "Precision: 0.8414985590778098\n",
            "Recall: 0.8133704735376045\n",
            "F1 Score: 0.8271954674220963\n",
            "Confusion Matrix:\n",
            " [[428  55]\n",
            " [ 67 292]]\n"
          ]
        }
      ]
    },
    {
      "cell_type": "code",
      "source": [
        "from sklearn.model_selection import GridSearchCV\n",
        "from sklearn.neighbors import KNeighborsClassifier\n",
        "\n",
        "# Define the hyperparameters to explore\n",
        "param_grid = {\n",
        "    'n_neighbors': [3, 5, 7, 9],\n",
        "    'weights': ['uniform', 'distance'],\n",
        "    'metric': ['euclidean', 'manhattan', 'chebyshev']\n",
        "}\n",
        "\n",
        "# Create the KNN model\n",
        "knn = KNeighborsClassifier()\n",
        "\n",
        "# Create the GridSearchCV object\n",
        "grid_search = GridSearchCV(knn, param_grid, cv=5)\n",
        "\n",
        "# Fit the GridSearchCV object to the data\n",
        "grid_search.fit(X_train_pca, y_train)\n",
        "\n",
        "# Print the best hyperparameters and corresponding accuracy score\n",
        "print('Best hyperparameters:', grid_search.best_params_)\n",
        "print('Accuracy score:', grid_search.best_score_)\n"
      ],
      "metadata": {
        "colab": {
          "base_uri": "https://localhost:8080/"
        },
        "id": "cVv2xbCB_rAO",
        "outputId": "6ded73e6-3615-4bf8-c2ad-84962726106c"
      },
      "execution_count": null,
      "outputs": [
        {
          "output_type": "stream",
          "name": "stdout",
          "text": [
            "Best hyperparameters: {'metric': 'manhattan', 'n_neighbors': 7, 'weights': 'distance'}\n",
            "Accuracy score: 0.8752950824731813\n"
          ]
        }
      ]
    },
    {
      "cell_type": "code",
      "source": [
        "\n",
        "k = 0\n",
        "M = -1\n",
        "for i in range(1, 10):\n",
        "    model_k = KNeighborsClassifier(n_neighbors=i, weights='distance', p=3) #manhattan\n",
        "    model_k.fit(X_train_pca, y_train)\n",
        "    s = model_k.score(X_test_pca, y_test)\n",
        "    if s > M:\n",
        "        M = s\n",
        "        k = i\n",
        "print('Optimal value of k:', k)\n"
      ],
      "metadata": {
        "colab": {
          "base_uri": "https://localhost:8080/"
        },
        "id": "VCM-RCHUEMym",
        "outputId": "01a55fe1-1e10-4e2d-85f9-0963c385319f"
      },
      "execution_count": null,
      "outputs": [
        {
          "output_type": "stream",
          "name": "stdout",
          "text": [
            "Optimal value of k: 9\n"
          ]
        }
      ]
    },
    {
      "cell_type": "code",
      "source": [
        "k = 0\n",
        "M = -1\n",
        "for i in range(1, 10):\n",
        "    model_k = KNeighborsClassifier(n_neighbors=i, weights='uniform', p=2) #euclidian\n",
        "    model_k.fit(X_train_pca, y_train)\n",
        "    s = model_k.score(X_test_pca, y_test)\n",
        "    if s > M:\n",
        "        M = s\n",
        "        k = i\n",
        "print('Optimal value of k:', k)"
      ],
      "metadata": {
        "colab": {
          "base_uri": "https://localhost:8080/"
        },
        "id": "zhiQiQVLGV4w",
        "outputId": "254c18d0-4efd-41a0-d214-71b950cd3e85"
      },
      "execution_count": null,
      "outputs": [
        {
          "output_type": "stream",
          "name": "stdout",
          "text": [
            "Optimal value of k: 9\n"
          ]
        }
      ]
    },
    {
      "cell_type": "code",
      "source": [
        "from sklearn.metrics import accuracy_score, precision_score, recall_score, f1_score, confusion_matrix\n",
        "\n",
        "# Split into training and testing datasets\n",
        "X_train, X_test, y_train, y_test = train_test_split(X, y, test_size=0.2, random_state=42)\n",
        "\n",
        "# Normalize features\n",
        "scaler = StandardScaler()\n",
        "X_train = scaler.fit_transform(X_train)\n",
        "X_test = scaler.transform(X_test)\n",
        "\n",
        "# PCA\n",
        "pca = PCA(n_components=5) \n",
        "X_train_pca = pca.fit_transform(X_train)\n",
        "X_test_pca = pca.transform(X_test)\n",
        "\n",
        "# KNN Model with Euclidean distance and uniform weights\n",
        "knn = KNeighborsClassifier(n_neighbors=9, weights='uniform', metric='euclidean')\n",
        "knn.fit(X_train_pca, y_train)\n",
        "knn_pred = knn.predict(X_test_pca)\n",
        "\n",
        "# Evaluation Metrics for KNN with Euclidean distance and uniform weights\n",
        "print('KNN Results (with PCA, Euclidean Distance, Uniform Weights):')\n",
        "print('Accuracy:', accuracy_score(y_test, knn_pred))\n",
        "print('Precision:', precision_score(y_test, knn_pred))\n",
        "print('Recall:', recall_score(y_test, knn_pred))\n",
        "print('F1 Score:', f1_score(y_test, knn_pred))\n",
        "print('Confusion Matrix:\\n', confusion_matrix(y_test, knn_pred))\n",
        "\n",
        "# KNN Model with Manhattan distance and uniform weights\n",
        "knn = KNeighborsClassifier(n_neighbors=9, weights='uniform', metric='manhattan')\n",
        "knn.fit(X_train_pca, y_train)\n",
        "knn_pred = knn.predict(X_test_pca)\n",
        "\n",
        "# Evaluation Metrics for KNN with Manhattan distance and uniform weights\n",
        "print('\\nKNN Results (with PCA, Manhattan Distance, Uniform Weights):')\n",
        "print('Accuracy:', accuracy_score(y_test, knn_pred))\n",
        "print('Precision:', precision_score(y_test, knn_pred))\n",
        "print('Recall:', recall_score(y_test, knn_pred))\n",
        "print('F1 Score:', f1_score(y_test, knn_pred))\n",
        "print('Confusion Matrix:\\n', confusion_matrix(y_test, knn_pred))\n",
        "\n",
        "# KNN Model with Chebyshev distance and uniform weights\n",
        "knn_chebyshev = KNeighborsClassifier(n_neighbors=9, metric='chebyshev', weights='uniform')\n",
        "knn_chebyshev.fit(X_train_pca, y_train)\n",
        "knn_chebyshev_pred = knn_chebyshev.predict(X_test_pca)\n",
        "\n",
        "# Evaluation Metrics for KNN with Chebyshev distance and uniform weights\n",
        "print('KNN Results (with Chebyshev distance and uniform weights):')\n",
        "print('Accuracy:', accuracy_score(y_test, knn_chebyshev_pred))\n",
        "print('Precision:', precision_score(y_test, knn_chebyshev_pred))\n",
        "print('Recall:', recall_score(y_test, knn_chebyshev_pred))\n",
        "print('F1 Score:', f1_score(y_test, knn_chebyshev_pred))\n",
        "print('Confusion Matrix:\\n', confusion_matrix(y_test, knn_chebyshev_pred))\n",
        "\n",
        "\n",
        "# KNN Model with Euclidean distance and distance weights\n",
        "knn = KNeighborsClassifier(n_neighbors=9, weights='distance', metric='euclidean')\n",
        "knn.fit(X_train_pca, y_train)\n",
        "knn_pred = knn.predict(X_test_pca)\n",
        "\n",
        "# Evaluation Metrics for KNN with Euclidean distance and distance weights\n",
        "print('\\nKNN Results (with PCA, Euclidean Distance, Distance Weights):')\n",
        "print('Accuracy:', accuracy_score(y_test, knn_pred))\n",
        "print('Precision:', precision_score(y_test, knn_pred))\n",
        "print('Recall:', recall_score(y_test, knn_pred))\n",
        "print('F1 Score:', f1_score(y_test, knn_pred))\n",
        "print('Confusion Matrix:\\n', confusion_matrix(y_test, knn_pred))\n",
        "\n",
        "# KNN Model with Manhattan distance and distance weights\n",
        "knn = KNeighborsClassifier(n_neighbors=9, weights='distance', metric='manhattan')\n",
        "knn.fit(X_train_pca, y_train)\n",
        "knn_pred = knn.predict(X_test_pca)\n",
        "\n",
        "# Evaluation Metrics for KNN with Manhattan distance and distance weights\n",
        "print('\\nKNN Results (with PCA, Manhattan Distance, Distance Weights):')\n",
        "print('Accuracy:', accuracy_score(y_test, knn_pred))\n",
        "print('Precision:', precision_score(y_test, knn_pred))\n",
        "print('Recall:', recall_score(y_test, knn_pred))\n",
        "print('F1 Score:', f1_score(y_test, knn_pred))\n",
        "print('Confusion Matrix:\\n', confusion_matrix(y_test, knn_pred))\n",
        "\n",
        "# KNN model with chebyshev distance and distance weights\n",
        "knn = KNeighborsClassifier(n_neighbors=9, weights='distance', metric='chebyshev')\n",
        "knn.fit(X_train_pca, y_train)\n",
        "knn_pred = knn.predict(X_test_pca)\n",
        "\n",
        "# Evaluation metrics for KNN with chebyshev distance and distance weights\n",
        "print('KNN Results (with Chebyshev distance and distance weights):')\n",
        "print('Accuracy:', accuracy_score(y_test, knn_pred))\n",
        "print('Precision:', precision_score(y_test, knn_pred))\n",
        "print('Recall:', recall_score(y_test, knn_pred))\n",
        "print('F1 Score:', f1_score(y_test, knn_pred))\n",
        "print('Confusion Matrix:\\n', confusion_matrix(y_test, knn_pred))\n",
        "\n",
        "\n"
      ],
      "metadata": {
        "colab": {
          "base_uri": "https://localhost:8080/"
        },
        "id": "miXGpo2GBSaM",
        "outputId": "5cc2f8a0-5255-4dae-ac29-0ecf8b2430d8"
      },
      "execution_count": null,
      "outputs": [
        {
          "output_type": "stream",
          "name": "stdout",
          "text": [
            "KNN Results (with PCA, Euclidean Distance, Uniform Weights):\n",
            "Accuracy: 0.9085510688836105\n",
            "Precision: 0.8895027624309392\n",
            "Recall: 0.8969359331476323\n",
            "F1 Score: 0.8932038834951456\n",
            "Confusion Matrix:\n",
            " [[443  40]\n",
            " [ 37 322]]\n",
            "\n",
            "KNN Results (with PCA, Manhattan Distance, Uniform Weights):\n",
            "Accuracy: 0.9038004750593824\n",
            "Precision: 0.888268156424581\n",
            "Recall: 0.8857938718662952\n",
            "F1 Score: 0.8870292887029289\n",
            "Confusion Matrix:\n",
            " [[443  40]\n",
            " [ 41 318]]\n",
            "KNN Results (with Chebyshev distance and uniform weights):\n",
            "Accuracy: 0.9014251781472684\n",
            "Precision: 0.8920454545454546\n",
            "Recall: 0.8746518105849582\n",
            "F1 Score: 0.8832630098452883\n",
            "Confusion Matrix:\n",
            " [[445  38]\n",
            " [ 45 314]]\n",
            "\n",
            "KNN Results (with PCA, Euclidean Distance, Distance Weights):\n",
            "Accuracy: 0.9097387173396675\n",
            "Precision: 0.8876712328767123\n",
            "Recall: 0.9025069637883009\n",
            "F1 Score: 0.8950276243093923\n",
            "Confusion Matrix:\n",
            " [[442  41]\n",
            " [ 35 324]]\n",
            "\n",
            "KNN Results (with PCA, Manhattan Distance, Distance Weights):\n",
            "Accuracy: 0.9109263657957245\n",
            "Precision: 0.8922651933701657\n",
            "Recall: 0.8997214484679665\n",
            "F1 Score: 0.8959778085991679\n",
            "Confusion Matrix:\n",
            " [[444  39]\n",
            " [ 36 323]]\n",
            "KNN Results (with Chebyshev distance and distance weights):\n",
            "Accuracy: 0.9133016627078385\n",
            "Precision: 0.8950276243093923\n",
            "Recall: 0.9025069637883009\n",
            "F1 Score: 0.8987517337031901\n",
            "Confusion Matrix:\n",
            " [[445  38]\n",
            " [ 35 324]]\n"
          ]
        }
      ]
    },
    {
      "cell_type": "code",
      "source": [],
      "metadata": {
        "id": "0MPsM3s4BaZD"
      },
      "execution_count": null,
      "outputs": []
    }
  ]
}